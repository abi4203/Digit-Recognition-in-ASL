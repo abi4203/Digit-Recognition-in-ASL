{
  "metadata": {
    "kernelspec": {
      "language": "python",
      "display_name": "Python 3",
      "name": "python3"
    },
    "language_info": {
      "pygments_lexer": "ipython3",
      "nbconvert_exporter": "python",
      "version": "3.6.4",
      "file_extension": ".py",
      "codemirror_mode": {
        "name": "ipython",
        "version": 3
      },
      "name": "python",
      "mimetype": "text/x-python"
    },
    "colab": {
      "provenance": []
    }
  },
  "nbformat_minor": 0,
  "nbformat": 4,
  "cells": [
    {
      "source": [
        "\n",
        "import os\n",
        "import sys\n",
        "from tempfile import NamedTemporaryFile\n",
        "from urllib.request import urlopen\n",
        "from urllib.parse import unquote, urlparse\n",
        "from urllib.error import HTTPError\n",
        "from zipfile import ZipFile\n",
        "import tarfile\n",
        "import shutil\n",
        "\n",
        "CHUNK_SIZE = 40960\n",
        "DATA_SOURCE_MAPPING = 'sign-language-digits-dataset:https%3A%2F%2Fstorage.googleapis.com%2Fkaggle-data-sets%2F7836%2F11071%2Fbundle%2Farchive.zip%3FX-Goog-Algorithm%3DGOOG4-RSA-SHA256%26X-Goog-Credential%3Dgcp-kaggle-com%2540kaggle-161607.iam.gserviceaccount.com%252F20240403%252Fauto%252Fstorage%252Fgoog4_request%26X-Goog-Date%3D20240403T085425Z%26X-Goog-Expires%3D259200%26X-Goog-SignedHeaders%3Dhost%26X-Goog-Signature%3D66f7ac405bacc75adcbb94b5975e026b029e2a7dae38db6e36f7cd6c1b843495c2e193a009dc2a91868fcff4261e7486fee5d6747e50269410439b7df8278981f39c58cb21952e2da79e575a5e239901293318b7922801901a8222fb2e66a5cd45845aead4f71ba96eb43d312588c2d08ff135fd59986ce1e58984ae6d88bd2223c5a2273a3e0ffd0ec3c2757f74cc97b901e397c37ec4cb5712e1164d768b1089dec92e179ec3494cb922b0143f89c07bbbaced2907e595ef501962e0ab553b8b267087b029bb5235762992867a10d89409cbc3287560b9d8da0c0d5773a7aef221e19c323f7163942a06ea6fd92dd81196ebdd3afde2e083153c8f36ff8fb8'\n",
        "\n",
        "KAGGLE_INPUT_PATH='/kaggle/input'\n",
        "KAGGLE_WORKING_PATH='/kaggle/working'\n",
        "KAGGLE_SYMLINK='kaggle'\n",
        "\n",
        "!umount /kaggle/input/ 2> /dev/null\n",
        "shutil.rmtree('/kaggle/input', ignore_errors=True)\n",
        "os.makedirs(KAGGLE_INPUT_PATH, 0o777, exist_ok=True)\n",
        "os.makedirs(KAGGLE_WORKING_PATH, 0o777, exist_ok=True)\n",
        "\n",
        "try:\n",
        "  os.symlink(KAGGLE_INPUT_PATH, os.path.join(\"..\", 'input'), target_is_directory=True)\n",
        "except FileExistsError:\n",
        "  pass\n",
        "try:\n",
        "  os.symlink(KAGGLE_WORKING_PATH, os.path.join(\"..\", 'working'), target_is_directory=True)\n",
        "except FileExistsError:\n",
        "  pass\n",
        "\n",
        "for data_source_mapping in DATA_SOURCE_MAPPING.split(','):\n",
        "    directory, download_url_encoded = data_source_mapping.split(':')\n",
        "    download_url = unquote(download_url_encoded)\n",
        "    filename = urlparse(download_url).path\n",
        "    destination_path = os.path.join(KAGGLE_INPUT_PATH, directory)\n",
        "    try:\n",
        "        with urlopen(download_url) as fileres, NamedTemporaryFile() as tfile:\n",
        "            total_length = fileres.headers['content-length']\n",
        "            print(f'Downloading {directory}, {total_length} bytes compressed')\n",
        "            dl = 0\n",
        "            data = fileres.read(CHUNK_SIZE)\n",
        "            while len(data) > 0:\n",
        "                dl += len(data)\n",
        "                tfile.write(data)\n",
        "                done = int(50 * dl / int(total_length))\n",
        "                sys.stdout.write(f\"\\r[{'=' * done}{' ' * (50-done)}] {dl} bytes downloaded\")\n",
        "                sys.stdout.flush()\n",
        "                data = fileres.read(CHUNK_SIZE)\n",
        "            if filename.endswith('.zip'):\n",
        "              with ZipFile(tfile) as zfile:\n",
        "                zfile.extractall(destination_path)\n",
        "            else:\n",
        "              with tarfile.open(tfile.name) as tarfile:\n",
        "                tarfile.extractall(destination_path)\n",
        "            print(f'\\nDownloaded and uncompressed: {directory}')\n",
        "    except HTTPError as e:\n",
        "        print(f'Failed to load (likely expired) {download_url} to path {destination_path}')\n",
        "        continue\n",
        "    except OSError as e:\n",
        "        print(f'Failed to load {download_url} to path {destination_path}')\n",
        "        continue\n",
        "\n",
        "print('Data source import complete.')\n"
      ],
      "metadata": {
        "id": "uhiEnY7OKrc0",
        "outputId": "1f52c1f9-e123-4a80-a2de-687c9c301364",
        "colab": {
          "base_uri": "https://localhost:8080/"
        }
      },
      "cell_type": "code",
      "outputs": [
        {
          "output_type": "stream",
          "name": "stdout",
          "text": [
            "Downloading sign-language-digits-dataset, 17623806 bytes compressed\n",
            "[==================================================] 17623806 bytes downloaded\n",
            "Downloaded and uncompressed: sign-language-digits-dataset\n",
            "Data source import complete.\n"
          ]
        }
      ],
      "execution_count": 1
    },
    {
      "cell_type": "code",
      "source": [
        "# This Python 3 environment comes with many helpful analytics libraries installed\n",
        "# It is defined by the kaggle/python Docker image: https://github.com/kaggle/docker-python\n",
        "# For example, here's several helpful packages to load\n",
        "\n",
        "import numpy as np # linear algebra\n",
        "import pandas as pd # data processing, CSV file I/O (e.g. pd.read_csv)\n",
        "import seaborn as sns\n",
        "import matplotlib.pyplot as plt\n",
        "\n",
        "# Input data files are available in the read-only \"../input/\" directory\n",
        "# For example, running this (by clicking run or pressing Shift+Enter) will list all files under the input directory\n",
        "\n",
        "import os\n",
        "for dirname, _, filenames in os.walk('/kaggle/input'):\n",
        "    for filename in filenames:\n",
        "        print(os.path.join(dirname, filename))\n",
        "\n",
        "# You can write up to 20GB to the current directory (/kaggle/working/) that gets preserved as output when you create a version using \"Save & Run All\"\n",
        "# You can also write temporary files to /kaggle/temp/, but they won't be saved outside of the current session"
      ],
      "metadata": {
        "_uuid": "8f2839f25d086af736a60e9eeb907d3b93b6e0e5",
        "_cell_guid": "b1076dfc-b9ad-4769-8c92-a6c4dae69d19",
        "execution": {
          "iopub.status.busy": "2022-08-29T21:04:47.505367Z",
          "iopub.execute_input": "2022-08-29T21:04:47.505935Z",
          "iopub.status.idle": "2022-08-29T21:04:48.882342Z",
          "shell.execute_reply.started": "2022-08-29T21:04:47.505827Z",
          "shell.execute_reply": "2022-08-29T21:04:48.881006Z"
        },
        "trusted": true,
        "id": "Of9BGWD7Krc6",
        "outputId": "9a3ebd42-a9ea-421c-e0fc-06fa901df812",
        "colab": {
          "base_uri": "https://localhost:8080/"
        }
      },
      "execution_count": 2,
      "outputs": [
        {
          "output_type": "stream",
          "name": "stdout",
          "text": [
            "/kaggle/input/sign-language-digits-dataset/Y.npy\n",
            "/kaggle/input/sign-language-digits-dataset/X.npy\n",
            "/kaggle/input/sign-language-digits-dataset/Sign-language-digits-dataset/Y.npy\n",
            "/kaggle/input/sign-language-digits-dataset/Sign-language-digits-dataset/X.npy\n"
          ]
        }
      ]
    },
    {
      "cell_type": "code",
      "source": [
        "x_data = np.load(\"/kaggle/input/sign-language-digits-dataset/X.npy\")\n",
        "y_data = np.load(\"/kaggle/input/sign-language-digits-dataset/Y.npy\")"
      ],
      "metadata": {
        "execution": {
          "iopub.status.busy": "2022-08-29T21:04:48.884878Z",
          "iopub.execute_input": "2022-08-29T21:04:48.885795Z",
          "iopub.status.idle": "2022-08-29T21:04:49.904004Z",
          "shell.execute_reply.started": "2022-08-29T21:04:48.88572Z",
          "shell.execute_reply": "2022-08-29T21:04:49.902825Z"
        },
        "trusted": true,
        "id": "qyIm2OUkKrc7"
      },
      "execution_count": 3,
      "outputs": []
    },
    {
      "cell_type": "code",
      "source": [
        "x_data[0]"
      ],
      "metadata": {
        "execution": {
          "iopub.status.busy": "2022-08-29T21:04:49.905926Z",
          "iopub.execute_input": "2022-08-29T21:04:49.906866Z",
          "iopub.status.idle": "2022-08-29T21:04:49.9193Z",
          "shell.execute_reply.started": "2022-08-29T21:04:49.906756Z",
          "shell.execute_reply": "2022-08-29T21:04:49.918075Z"
        },
        "trusted": true,
        "id": "RoSfgOA6Krc8",
        "outputId": "4a8dbd9c-1882-486e-c416-5d1b6fd45ff9",
        "colab": {
          "base_uri": "https://localhost:8080/"
        }
      },
      "execution_count": 4,
      "outputs": [
        {
          "output_type": "execute_result",
          "data": {
            "text/plain": [
              "array([[0.46666667, 0.4745098 , 0.47843137, ..., 0.5176471 , 0.5137255 ,\n",
              "        0.5019608 ],\n",
              "       [0.49803922, 0.4862745 , 0.4862745 , ..., 0.5254902 , 0.5176471 ,\n",
              "        0.50980395],\n",
              "       [0.54509807, 0.49411765, 0.49019608, ..., 0.5294118 , 0.5254902 ,\n",
              "        0.5137255 ],\n",
              "       ...,\n",
              "       [0.5019608 , 0.5137255 , 0.5176471 , ..., 0.5529412 , 0.54509807,\n",
              "        0.53333336],\n",
              "       [0.49803922, 0.5058824 , 0.5137255 , ..., 0.54509807, 0.53333336,\n",
              "        0.52156866],\n",
              "       [0.49019608, 0.49803922, 0.5019608 , ..., 0.5294118 , 0.52156866,\n",
              "        0.50980395]], dtype=float32)"
            ]
          },
          "metadata": {},
          "execution_count": 4
        }
      ]
    },
    {
      "cell_type": "code",
      "source": [
        "y_data"
      ],
      "metadata": {
        "execution": {
          "iopub.status.busy": "2022-08-29T21:04:49.922267Z",
          "iopub.execute_input": "2022-08-29T21:04:49.923034Z",
          "iopub.status.idle": "2022-08-29T21:04:49.93257Z",
          "shell.execute_reply.started": "2022-08-29T21:04:49.922987Z",
          "shell.execute_reply": "2022-08-29T21:04:49.931073Z"
        },
        "trusted": true,
        "id": "pi9jPgKqKrc8",
        "outputId": "1f08904b-2b8a-416b-c370-4d1b924d0448",
        "colab": {
          "base_uri": "https://localhost:8080/"
        }
      },
      "execution_count": 5,
      "outputs": [
        {
          "output_type": "execute_result",
          "data": {
            "text/plain": [
              "array([[1., 0., 0., ..., 0., 0., 0.],\n",
              "       [1., 0., 0., ..., 0., 0., 0.],\n",
              "       [1., 0., 0., ..., 0., 0., 0.],\n",
              "       ...,\n",
              "       [0., 0., 0., ..., 0., 0., 1.],\n",
              "       [0., 0., 0., ..., 0., 0., 1.],\n",
              "       [0., 0., 0., ..., 0., 0., 1.]])"
            ]
          },
          "metadata": {},
          "execution_count": 5
        }
      ]
    },
    {
      "cell_type": "markdown",
      "source": [
        "I visualize an image inside of x_data."
      ],
      "metadata": {
        "id": "b0eh23YLKrc9"
      }
    },
    {
      "cell_type": "code",
      "source": [
        "img_size = 64\n",
        "plt.subplot(1, 2, 1)\n",
        "plt.imshow(x_data[45].reshape(img_size, img_size))\n",
        "plt.axis(\"off\")"
      ],
      "metadata": {
        "execution": {
          "iopub.status.busy": "2022-08-29T21:04:49.934901Z",
          "iopub.execute_input": "2022-08-29T21:04:49.935877Z",
          "iopub.status.idle": "2022-08-29T21:04:50.100926Z",
          "shell.execute_reply.started": "2022-08-29T21:04:49.935825Z",
          "shell.execute_reply": "2022-08-29T21:04:50.09908Z"
        },
        "trusted": true,
        "id": "egKDhmuUKrc9",
        "outputId": "cba970e9-d55e-4a72-ba82-b016aece09d1",
        "colab": {
          "base_uri": "https://localhost:8080/",
          "height": 280
        }
      },
      "execution_count": 6,
      "outputs": [
        {
          "output_type": "execute_result",
          "data": {
            "text/plain": [
              "(-0.5, 63.5, 63.5, -0.5)"
            ]
          },
          "metadata": {},
          "execution_count": 6
        },
        {
          "output_type": "display_data",
          "data": {
            "text/plain": [
              "<Figure size 640x480 with 1 Axes>"
            ],
            "image/png": "[encoded data removed]"
          },
          "metadata": {}
        }
      ]
    },
    {
      "cell_type": "code",
      "source": [
        "X_train = x_data.reshape(-1,64,64,1)\n",
        "print(\"x_train shape: \", X_train.shape)"
      ],
      "metadata": {
        "execution": {
          "iopub.status.busy": "2022-08-29T21:04:50.104772Z",
          "iopub.execute_input": "2022-08-29T21:04:50.106523Z",
          "iopub.status.idle": "2022-08-29T21:04:50.118511Z",
          "shell.execute_reply.started": "2022-08-29T21:04:50.106462Z",
          "shell.execute_reply": "2022-08-29T21:04:50.116887Z"
        },
        "trusted": true,
        "id": "5DMf4Nm2Krc-",
        "outputId": "6772f97c-2389-44c6-ce76-50c10cc3e4a9",
        "colab": {
          "base_uri": "https://localhost:8080/"
        }
      },
      "execution_count": 7,
      "outputs": [
        {
          "output_type": "stream",
          "name": "stdout",
          "text": [
            "x_train shape:  (2062, 64, 64, 1)\n"
          ]
        }
      ]
    },
    {
      "cell_type": "markdown",
      "source": [
        "In this chapter, I classify them according to the number of pictures in the data set.\n",
        "- 204-409 => 0\n",
        "- 822-1028 => 1\n",
        "- 1649-1855 => 2\n",
        "- 1443-1649 => 3\n",
        "- 1236-1443 => 4\n",
        "- 1855-2062 => 5\n",
        "- 615-822 => 6\n",
        "- 409-615 => 7\n",
        "- 1028-1236 => 8\n",
        "- 0-204 => 9"
      ],
      "metadata": {
        "id": "2e5QBMj1Krc-"
      }
    },
    {
      "cell_type": "code",
      "source": [
        "X_classification = np.concatenate((X_train[204:409,:],\n",
        "                                   X_train[822:1028,:],\n",
        "                                   X_train[1649:1855,:],\n",
        "                                   X_train[1443:1649,:],\n",
        "                                   X_train[1236:1443,:],\n",
        "                                   X_train[1855:2062,:],\n",
        "                                   X_train[615:822,:],\n",
        "                                   X_train[409:615,:],\n",
        "                                   X_train[1028:1236,:],\n",
        "                                   X_train[0:204,:]),axis = 0)"
      ],
      "metadata": {
        "execution": {
          "iopub.status.busy": "2022-08-29T21:04:50.122113Z",
          "iopub.execute_input": "2022-08-29T21:04:50.124505Z",
          "iopub.status.idle": "2022-08-29T21:04:50.167954Z",
          "shell.execute_reply.started": "2022-08-29T21:04:50.1243Z",
          "shell.execute_reply": "2022-08-29T21:04:50.166683Z"
        },
        "trusted": true,
        "id": "c7CbT-5JKrc-"
      },
      "execution_count": 8,
      "outputs": []
    },
    {
      "cell_type": "code",
      "source": [
        "from sklearn.model_selection import train_test_split\n",
        "x_train, x_test, y_train, y_test = train_test_split(X_classification, y_data, test_size = 0.1, random_state = 42)\n",
        "\n",
        "print(\"x_train shape\",x_train.shape)\n",
        "print(\"x_test shape\",x_test.shape)\n",
        "print(\"y_train shape\",y_train.shape)\n",
        "print(\"y_test shape\",y_test.shape)"
      ],
      "metadata": {
        "execution": {
          "iopub.status.busy": "2022-08-29T21:04:50.169848Z",
          "iopub.execute_input": "2022-08-29T21:04:50.170653Z",
          "iopub.status.idle": "2022-08-29T21:04:50.422526Z",
          "shell.execute_reply.started": "2022-08-29T21:04:50.170613Z",
          "shell.execute_reply": "2022-08-29T21:04:50.421128Z"
        },
        "trusted": true,
        "id": "MdiHnIWcKrc_",
        "outputId": "e22812ee-ff5e-4a66-9534-82cdba81d7f2",
        "colab": {
          "base_uri": "https://localhost:8080/"
        }
      },
      "execution_count": 9,
      "outputs": [
        {
          "output_type": "stream",
          "name": "stdout",
          "text": [
            "x_train shape (1855, 64, 64, 1)\n",
            "x_test shape (207, 64, 64, 1)\n",
            "y_train shape (1855, 10)\n",
            "y_test shape (207, 10)\n"
          ]
        }
      ]
    },
    {
      "cell_type": "code",
      "source": [
        "plt.imshow(x_train[2][:,:,0], cmap = \"gray\")\n",
        "plt.axis(\"off\")\n",
        "plt.show()"
      ],
      "metadata": {
        "execution": {
          "iopub.status.busy": "2022-08-29T21:04:50.424361Z",
          "iopub.execute_input": "2022-08-29T21:04:50.424726Z",
          "iopub.status.idle": "2022-08-29T21:04:50.549855Z",
          "shell.execute_reply.started": "2022-08-29T21:04:50.424693Z",
          "shell.execute_reply": "2022-08-29T21:04:50.548862Z"
        },
        "trusted": true,
        "id": "Z8wtxmNKKrc_",
        "outputId": "f587316b-c4cc-4e04-c4b7-e9ce1ccc018d",
        "colab": {
          "base_uri": "https://localhost:8080/",
          "height": 406
        }
      },
      "execution_count": 10,
      "outputs": [
        {
          "output_type": "display_data",
          "data": {
            "text/plain": [
              "<Figure size 640x480 with 1 Axes>"
            ],
            "image/png": "[encoded data removed]"
          },
          "metadata": {}
        }
      ]
    },
    {
      "cell_type": "code",
      "source": [
        "# import Library\n",
        "from sklearn.metrics import confusion_matrix\n",
        "import itertools\n",
        "\n",
        "from keras.utils import to_categorical\n",
        "from keras.models import Sequential\n",
        "from keras.layers import Dense, Dropout, Conv2D, MaxPool2D, Flatten\n",
        "from keras.optimizers import RMSprop, Adam\n",
        "from keras.preprocessing.image import ImageDataGenerator\n",
        "from keras.callbacks import ReduceLROnPlateau\n",
        "\n",
        "# Create Model\n",
        "model = Sequential()\n",
        "\n",
        "model.add(Conv2D(filters = 16, kernel_size = (5,5), padding = 'Same', activation = 'relu', input_shape = (64,64,1)))\n",
        "model.add(MaxPool2D(pool_size = (2,2)))\n",
        "model.add(Dropout(0.25))\n",
        "\n",
        "model.add(Conv2D(filters = 32, kernel_size = (3,3), padding = 'Same', activation = 'relu'))\n",
        "model.add(MaxPool2D(pool_size = (2,2), strides = (2,2)))\n",
        "model.add(Dropout(0.25))\n",
        "\n",
        "model.add(Conv2D(filters = 64, kernel_size = (3,3), padding = 'Same', activation = 'relu'))\n",
        "model.add(MaxPool2D(pool_size = (2,2), strides = (2,2)))\n",
        "model.add(Dropout(0.25))\n",
        "\n",
        "model.add(Conv2D(filters = 128, kernel_size = (3,3), padding = 'Same', activation = 'relu'))\n",
        "model.add(MaxPool2D(pool_size = (2,2), strides = (2,2)))\n",
        "model.add(Dropout(0.25))\n",
        "\n",
        "model.add(Flatten())\n",
        "model.add(Dense(128, activation = 'relu'))\n",
        "model.add(Dense(64, activation = 'relu'))\n",
        "model.add(Dense(10, activation = 'softmax'))\n",
        "\n",
        "# Define Optimizer\n",
        "optimizer = Adam(learning_rate = 0.0001, beta_1=0.9, beta_2=0.999)\n",
        "\n",
        "# Compile Model\n",
        "model.compile(optimizer = optimizer, loss = \"categorical_crossentropy\", metrics = [\"accuracy\"])\n",
        "\n",
        "# Epochs And Batch Size\n",
        "epochs = 100"
      ],
      "metadata": {
        "execution": {
          "iopub.status.busy": "2022-08-29T21:04:50.55366Z",
          "iopub.execute_input": "2022-08-29T21:04:50.555578Z",
          "iopub.status.idle": "2022-08-29T21:04:58.510271Z",
          "shell.execute_reply.started": "2022-08-29T21:04:50.555526Z",
          "shell.execute_reply": "2022-08-29T21:04:58.508925Z"
        },
        "trusted": true,
        "id": "wRpd-6dgKrdA"
      },
      "execution_count": 11,
      "outputs": []
    },
    {
      "cell_type": "code",
      "source": [
        "model.summary()"
      ],
      "metadata": {
        "execution": {
          "iopub.status.busy": "2022-08-29T21:04:58.512176Z",
          "iopub.execute_input": "2022-08-29T21:04:58.51296Z",
          "iopub.status.idle": "2022-08-29T21:04:58.525291Z",
          "shell.execute_reply.started": "2022-08-29T21:04:58.512912Z",
          "shell.execute_reply": "2022-08-29T21:04:58.523464Z"
        },
        "trusted": true,
        "id": "2XyKjOq_KrdA",
        "outputId": "debb75b2-9b26-4a2d-c805-9fcfaffe812f",
        "colab": {
          "base_uri": "https://localhost:8080/"
        }
      },
      "execution_count": 12,
      "outputs": [
        {
          "output_type": "stream",
          "name": "stdout",
          "text": [
            "Model: \"sequential\"\n",
            "_________________________________________________________________\n",
            " Layer (type)                Output Shape              Param #   \n",
            "=================================================================\n",
            " conv2d (Conv2D)             (None, 64, 64, 16)        416       \n",
            "                                                                 \n",
            " max_pooling2d (MaxPooling2  (None, 32, 32, 16)        0         \n",
            " D)                                                              \n",
            "                                                                 \n",
            " dropout (Dropout)           (None, 32, 32, 16)        0         \n",
            "                                                                 \n",
            " conv2d_1 (Conv2D)           (None, 32, 32, 32)        4640      \n",
            "                                                                 \n",
            " max_pooling2d_1 (MaxPoolin  (None, 16, 16, 32)        0         \n",
            " g2D)                                                            \n",
            "                                                                 \n",
            " dropout_1 (Dropout)         (None, 16, 16, 32)        0         \n",
            "                                                                 \n",
            " conv2d_2 (Conv2D)           (None, 16, 16, 64)        18496     \n",
            "                                                                 \n",
            " max_pooling2d_2 (MaxPoolin  (None, 8, 8, 64)          0         \n",
            " g2D)                                                            \n",
            "                                                                 \n",
            " dropout_2 (Dropout)         (None, 8, 8, 64)          0         \n",
            "                                                                 \n",
            " conv2d_3 (Conv2D)           (None, 8, 8, 128)         73856     \n",
            "                                                                 \n",
            " max_pooling2d_3 (MaxPoolin  (None, 4, 4, 128)         0         \n",
            " g2D)                                                            \n",
            "                                                                 \n",
            " dropout_3 (Dropout)         (None, 4, 4, 128)         0         \n",
            "                                                                 \n",
            " flatten (Flatten)           (None, 2048)              0         \n",
            "                                                                 \n",
            " dense (Dense)               (None, 128)               262272    \n",
            "                                                                 \n",
            " dense_1 (Dense)             (None, 64)                8256      \n",
            "                                                                 \n",
            " dense_2 (Dense)             (None, 10)                650       \n",
            "                                                                 \n",
            "=================================================================\n",
            "Total params: 368586 (1.41 MB)\n",
            "Trainable params: 368586 (1.41 MB)\n",
            "Non-trainable params: 0 (0.00 Byte)\n",
            "_________________________________________________________________\n"
          ]
        }
      ]
    },
    {
      "cell_type": "code",
      "source": [
        "# data augmentation\n",
        "datagen = ImageDataGenerator(\n",
        "        featurewise_center=False,  # set input mean to 0 over the dataset\n",
        "        samplewise_center=False,  # set each sample mean to 0\n",
        "        featurewise_std_normalization=False,  # divide inputs by std of the dataset\n",
        "        samplewise_std_normalization=False,  # divide each input by its std\n",
        "        zca_whitening=False,  # dimesion reduction\n",
        "        rotation_range=5,  # randomly rotate images in the range 5 degrees\n",
        "        zoom_range = 0.1, # Randomly zoom image 10%\n",
        "        width_shift_range=0.1,  # randomly shift images horizontally 10%\n",
        "        height_shift_range=0.1,  # randomly shift images vertically 10%\n",
        "        horizontal_flip=False,  # randomly flip images\n",
        "        vertical_flip=False)  # randomly flip images\n",
        "\n",
        "datagen.fit(x_train)"
      ],
      "metadata": {
        "execution": {
          "iopub.status.busy": "2022-08-29T21:04:58.527235Z",
          "iopub.execute_input": "2022-08-29T21:04:58.528281Z",
          "iopub.status.idle": "2022-08-29T21:04:58.560599Z",
          "shell.execute_reply.started": "2022-08-29T21:04:58.528227Z",
          "shell.execute_reply": "2022-08-29T21:04:58.559357Z"
        },
        "trusted": true,
        "id": "ZJYM6xOkKrdA"
      },
      "execution_count": 13,
      "outputs": []
    },
    {
      "cell_type": "code",
      "source": [
        "history = model.fit(datagen.flow(x_train, y_train), epochs = epochs, validation_data = (x_test, y_test))"
      ],
      "metadata": {
        "execution": {
          "iopub.status.busy": "2022-08-29T21:04:58.56226Z",
          "iopub.execute_input": "2022-08-29T21:04:58.562993Z",
          "iopub.status.idle": "2022-08-29T21:13:14.398355Z",
          "shell.execute_reply.started": "2022-08-29T21:04:58.562956Z",
          "shell.execute_reply": "2022-08-29T21:13:14.396673Z"
        },
        "trusted": true,
        "id": "auRAnKERKrdA",
        "outputId": "cbbf3b79-2c19-4420-fb55-f48f134f1e88",
        "colab": {
          "base_uri": "https://localhost:8080/"
        }
      },
      "execution_count": null,
      "outputs": [
        {
          "output_type": "stream",
          "name": "stdout",
          "text": [
            "Epoch 1/100\n",
            "58/58 [==============================] - 29s 392ms/step - loss: 2.3086 - accuracy: 0.0997 - val_loss: 2.3020 - val_accuracy: 0.1304\n",
            "Epoch 2/100\n",
            "58/58 [==============================] - 11s 185ms/step - loss: 2.3036 - accuracy: 0.1089 - val_loss: 2.3041 - val_accuracy: 0.1014\n",
            "Epoch 3/100\n",
            "58/58 [==============================] - 15s 252ms/step - loss: 2.3035 - accuracy: 0.1024 - val_loss: 2.3031 - val_accuracy: 0.0966\n",
            "Epoch 4/100\n",
            "58/58 [==============================] - 19s 313ms/step - loss: 2.3028 - accuracy: 0.1035 - val_loss: 2.3044 - val_accuracy: 0.0966\n",
            "Epoch 5/100\n",
            "58/58 [==============================] - 17s 283ms/step - loss: 2.3017 - accuracy: 0.1024 - val_loss: 2.3036 - val_accuracy: 0.1546\n",
            "Epoch 6/100\n",
            "58/58 [==============================] - 19s 329ms/step - loss: 2.3012 - accuracy: 0.1067 - val_loss: 2.3025 - val_accuracy: 0.0725\n",
            "Epoch 7/100\n",
            "58/58 [==============================] - 12s 202ms/step - loss: 2.2996 - accuracy: 0.1170 - val_loss: 2.3031 - val_accuracy: 0.1111\n",
            "Epoch 8/100\n",
            "58/58 [==============================] - 12s 198ms/step - loss: 2.2995 - accuracy: 0.1094 - val_loss: 2.2996 - val_accuracy: 0.1353\n",
            "Epoch 9/100\n",
            "58/58 [==============================] - 12s 203ms/step - loss: 2.2964 - accuracy: 0.1299 - val_loss: 2.2967 - val_accuracy: 0.1159\n",
            "Epoch 10/100\n",
            "58/58 [==============================] - 11s 193ms/step - loss: 2.2946 - accuracy: 0.1375 - val_loss: 2.2938 - val_accuracy: 0.1594\n",
            "Epoch 11/100\n",
            "58/58 [==============================] - 11s 195ms/step - loss: 2.2836 - accuracy: 0.1477 - val_loss: 2.2817 - val_accuracy: 0.1787\n",
            "Epoch 12/100\n",
            " 7/58 [==>...........................] - ETA: 8s - loss: 2.2623 - accuracy: 0.1652"
          ]
        }
      ]
    },
    {
      "cell_type": "code",
      "source": [
        "plt.plot(history.history[\"val_loss\"], color = \"b\", label = \"Validation Loss\")\n",
        "plt.title(\"Test Loss\")\n",
        "plt.xlabel(\"Number of Epochs\")\n",
        "plt.ylabel(\"Loss\")\n",
        "plt.legend()\n",
        "plt.show()"
      ],
      "metadata": {
        "execution": {
          "iopub.status.busy": "2022-08-29T21:13:14.401415Z",
          "iopub.execute_input": "2022-08-29T21:13:14.401935Z",
          "iopub.status.idle": "2022-08-29T21:13:14.630709Z",
          "shell.execute_reply.started": "2022-08-29T21:13:14.401888Z",
          "shell.execute_reply": "2022-08-29T21:13:14.6293Z"
        },
        "trusted": true,
        "id": "p8CCEwgxKrdA"
      },
      "execution_count": null,
      "outputs": []
    },
    {
      "cell_type": "code",
      "source": [
        "# confusion matrix\n",
        "# Predict the value from the validation dataset\n",
        "Y_pred = model.predict(x_test)\n",
        "# Convert Predictions classes to one hot vectors\n",
        "Y_pred_classes = np.argmax(Y_pred, axis = 1)\n",
        "# Convert Validation observation to one hot vectors\n",
        "Y_true = np.argmax(y_test, axis = 1)\n",
        "# Compute the confision matrix\n",
        "condision_mtrx = confusion_matrix(Y_true, Y_pred_classes)\n",
        "# plot the confusion matrix\n",
        "f,ax = plt.subplots(figsize=(8, 8))\n",
        "sns.heatmap(condision_mtrx, annot = True, linewidths = 0.01, cmap = \"Greens\", linecolor = \"gray\", fmt = \".2f\", ax = ax)\n",
        "plt.xlabel(\"Predicted Label\")\n",
        "plt.ylabel(\"True Label\")\n",
        "plt.title(\"Confusion Matrix\")\n",
        "plt.show()"
      ],
      "metadata": {
        "execution": {
          "iopub.status.busy": "2022-08-29T21:13:14.632315Z",
          "iopub.execute_input": "2022-08-29T21:13:14.632677Z",
          "iopub.status.idle": "2022-08-29T21:13:15.61589Z",
          "shell.execute_reply.started": "2022-08-29T21:13:14.632642Z",
          "shell.execute_reply": "2022-08-29T21:13:15.614652Z"
        },
        "trusted": true,
        "id": "0QeUOfAuKrdA"
      },
      "execution_count": null,
      "outputs": []
    },
    {
      "cell_type": "code",
      "source": [
        "x_val_test =  x_test.reshape(x_test.shape[0], 64, 64)\n",
        "\n",
        "fig , axis = plt.subplots(4, 4, figsize = (12, 14))\n",
        "\n",
        "for i, ax in enumerate(axis.flat):\n",
        "    ax.imshow(x_val_test[i], cmap = 'binary')\n",
        "    ax.set(title = f\"Real Number is {y_test[i].argmax()}\\nPredict Number is {Y_pred[i].argmax()}\");"
      ],
      "metadata": {
        "execution": {
          "iopub.status.busy": "2022-08-29T21:13:15.617418Z",
          "iopub.execute_input": "2022-08-29T21:13:15.618417Z",
          "iopub.status.idle": "2022-08-29T21:13:17.761092Z",
          "shell.execute_reply.started": "2022-08-29T21:13:15.618374Z",
          "shell.execute_reply": "2022-08-29T21:13:17.759883Z"
        },
        "trusted": true,
        "id": "MjTRP57CKrdB"
      },
      "execution_count": null,
      "outputs": []
    },
    {
      "cell_type": "code",
      "source": [
        "y_pred_test = model.predict(x_test)\n",
        "y_pred_test = np.argmax(y_pred_test,axis=1)\n",
        "\n",
        "i = 0\n",
        "plt.imshow(x_test[i].reshape(64,64), cmap = plt.cm.binary)\n",
        "plt.axis(\"off\")\n",
        "plt.show()\n",
        "print('Previsto : {}'.format(y_pred_test))\n",
        "\n",
        "result = pd.Series(y_pred_test, name = \"Label\")\n",
        "submission = pd.concat([pd.Series(range(1, len(y_pred_test)+1), name = \"ImageId\"), result], axis = 1)\n",
        "print(submission.head(10))\n",
        "submission.to_csv(\"mlp_mnist_v1.csv\", index = False)"
      ],
      "metadata": {
        "execution": {
          "iopub.status.busy": "2022-08-29T21:13:17.763073Z",
          "iopub.execute_input": "2022-08-29T21:13:17.764368Z",
          "iopub.status.idle": "2022-08-29T21:13:18.026308Z",
          "shell.execute_reply.started": "2022-08-29T21:13:17.764311Z",
          "shell.execute_reply": "2022-08-29T21:13:18.024603Z"
        },
        "trusted": true,
        "id": "qe8vonPxKrdB"
      },
      "execution_count": null,
      "outputs": []
    },
       {
      "cell_type": "markdown",
      "source": [
        "",
        "****\n",
        "",
        ""
      ],
      "metadata": {
        "id": "NF6Gy4TIKrdB"
      }
    }
  ]
}
